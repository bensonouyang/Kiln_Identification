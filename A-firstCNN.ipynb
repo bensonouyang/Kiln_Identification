{
 "cells": [
  {
   "cell_type": "code",
   "execution_count": 1,
   "id": "b479e279-1a2e-41d3-b321-1ce152872563",
   "metadata": {},
   "outputs": [],
   "source": [
    "import tensorflow as tf\n",
    "import imageio\n",
    "import os\n",
    "from PIL import Image\n",
    "import pandas as pd\n",
    "import numpy as np"
   ]
  },
  {
   "cell_type": "code",
   "execution_count": 2,
   "id": "68d14c9d-5027-4f30-9ac3-fc7565b76c72",
   "metadata": {},
   "outputs": [],
   "source": [
    "fashion_mnist = tf.keras.datasets.fashion_mnist\n",
    "(train_images,train_labels),(test_images, test_labels) = fashion_mnist.load_data()"
   ]
  },
  {
   "cell_type": "code",
   "execution_count": 4,
   "id": "942966db-2944-4d1a-a200-bc04457a41b7",
   "metadata": {},
   "outputs": [],
   "source": [
    "N = tr.shape[0]"
   ]
  },
  {
   "cell_type": "code",
   "execution_count": 2,
   "id": "f01fe71b-f056-418e-9c30-81634c82f4a6",
   "metadata": {},
   "outputs": [],
   "source": [
    "tr = pd.read_csv('Ytr.txt')\n",
    "te = pd.read_csv('pred.txt')"
   ]
  },
  {
   "cell_type": "code",
   "execution_count": 18,
   "id": "5615e42a-8b9d-4b41-b012-bb0e852c7438",
   "metadata": {},
   "outputs": [
    {
     "data": {
      "text/html": [
       "<div>\n",
       "<style scoped>\n",
       "    .dataframe tbody tr th:only-of-type {\n",
       "        vertical-align: middle;\n",
       "    }\n",
       "\n",
       "    .dataframe tbody tr th {\n",
       "        vertical-align: top;\n",
       "    }\n",
       "\n",
       "    .dataframe thead th {\n",
       "        text-align: right;\n",
       "    }\n",
       "</style>\n",
       "<table border=\"1\" class=\"dataframe\">\n",
       "  <thead>\n",
       "    <tr style=\"text-align: right;\">\n",
       "      <th></th>\n",
       "      <th>id</th>\n",
       "      <th>score</th>\n",
       "    </tr>\n",
       "  </thead>\n",
       "  <tbody>\n",
       "    <tr>\n",
       "      <th>0</th>\n",
       "      <td>618</td>\n",
       "      <td>0</td>\n",
       "    </tr>\n",
       "    <tr>\n",
       "      <th>1</th>\n",
       "      <td>620</td>\n",
       "      <td>0</td>\n",
       "    </tr>\n",
       "    <tr>\n",
       "      <th>2</th>\n",
       "      <td>623</td>\n",
       "      <td>0</td>\n",
       "    </tr>\n",
       "    <tr>\n",
       "      <th>3</th>\n",
       "      <td>625</td>\n",
       "      <td>0</td>\n",
       "    </tr>\n",
       "    <tr>\n",
       "      <th>4</th>\n",
       "      <td>629</td>\n",
       "      <td>0</td>\n",
       "    </tr>\n",
       "    <tr>\n",
       "      <th>...</th>\n",
       "      <td>...</td>\n",
       "      <td>...</td>\n",
       "    </tr>\n",
       "    <tr>\n",
       "      <th>2509</th>\n",
       "      <td>6141</td>\n",
       "      <td>0</td>\n",
       "    </tr>\n",
       "    <tr>\n",
       "      <th>2510</th>\n",
       "      <td>6143</td>\n",
       "      <td>0</td>\n",
       "    </tr>\n",
       "    <tr>\n",
       "      <th>2511</th>\n",
       "      <td>6144</td>\n",
       "      <td>0</td>\n",
       "    </tr>\n",
       "    <tr>\n",
       "      <th>2512</th>\n",
       "      <td>6146</td>\n",
       "      <td>0</td>\n",
       "    </tr>\n",
       "    <tr>\n",
       "      <th>2513</th>\n",
       "      <td>6147</td>\n",
       "      <td>0</td>\n",
       "    </tr>\n",
       "  </tbody>\n",
       "</table>\n",
       "<p>2514 rows × 2 columns</p>\n",
       "</div>"
      ],
      "text/plain": [
       "        id  score\n",
       "0      618      0\n",
       "1      620      0\n",
       "2      623      0\n",
       "3      625      0\n",
       "4      629      0\n",
       "...    ...    ...\n",
       "2509  6141      0\n",
       "2510  6143      0\n",
       "2511  6144      0\n",
       "2512  6146      0\n",
       "2513  6147      0\n",
       "\n",
       "[2514 rows x 2 columns]"
      ]
     },
     "execution_count": 18,
     "metadata": {},
     "output_type": "execute_result"
    }
   ],
   "source": [
    "te"
   ]
  },
  {
   "cell_type": "code",
   "execution_count": 10,
   "id": "2cfed3ed-aa59-4cc3-ab21-63f63581af90",
   "metadata": {},
   "outputs": [],
   "source": [
    "D = 28 # Dimension of images after resizing\n",
    "Xtr = np.zeros([N,D,D])"
   ]
  },
  {
   "cell_type": "code",
   "execution_count": 4,
   "id": "2cd38e3a-ccb9-4944-b1e7-197bc61009f3",
   "metadata": {},
   "outputs": [
    {
     "data": {
      "text/plain": [
       "(256, 256, 3)"
      ]
     },
     "execution_count": 4,
     "metadata": {},
     "output_type": "execute_result"
    }
   ],
   "source": [
    "ii = 0\n",
    "path = 'images/%05d.png' %ii\n",
    "        \n",
    "pic = imageio.imread(path)\n",
    "\n",
    "pic.shape"
   ]
  },
  {
   "cell_type": "code",
   "execution_count": 12,
   "id": "e7bf96d8-c786-4b22-a05b-6d5650774044",
   "metadata": {},
   "outputs": [
    {
     "name": "stdout",
     "output_type": "stream",
     "text": [
      "0 / 3634\n",
      "100 / 3634\n",
      "200 / 3634\n",
      "300 / 3634\n",
      "400 / 3634\n",
      "500 / 3634\n",
      "600 / 3634\n",
      "700 / 3634\n",
      "800 / 3634\n",
      "900 / 3634\n",
      "1000 / 3634\n",
      "1100 / 3634\n",
      "1200 / 3634\n",
      "1300 / 3634\n",
      "1400 / 3634\n",
      "1500 / 3634\n",
      "1600 / 3634\n",
      "1700 / 3634\n",
      "1800 / 3634\n",
      "1900 / 3634\n",
      "2000 / 3634\n",
      "2100 / 3634\n",
      "2200 / 3634\n",
      "2300 / 3634\n",
      "2400 / 3634\n",
      "2500 / 3634\n",
      "2600 / 3634\n",
      "2700 / 3634\n",
      "2800 / 3634\n",
      "2900 / 3634\n",
      "3000 / 3634\n",
      "3100 / 3634\n",
      "3200 / 3634\n",
      "3300 / 3634\n",
      "3400 / 3634\n",
      "3500 / 3634\n",
      "3600 / 3634\n"
     ]
    }
   ],
   "source": [
    "found = list()\n",
    "for ii in range(N):\n",
    "    if ii % 100 == 0:\n",
    "        print('%d / %d' % (ii, N))\n",
    "\n",
    "    path = 'images/%05d.png' %ii\n",
    "        \n",
    "    pic = imageio.imread(path)\n",
    "    pic = Image.fromarray(pic).resize((D,D)) # NOTE : this can be improved.\n",
    "    pic = np.mean(pic,axis = 2) # NOTE: this can be improved\n",
    "    pic = np.array(pic)\n",
    "    # print(pic.shape)\n",
    "    Xtr[ii,:,:] = pic"
   ]
  },
  {
   "cell_type": "code",
   "execution_count": 30,
   "id": "4781cbdc-c5d2-4f21-a5ab-9f4f7448f11d",
   "metadata": {},
   "outputs": [],
   "source": [
    "Xtr2 = Xtr/255"
   ]
  },
  {
   "cell_type": "code",
   "execution_count": 31,
   "id": "5f67afa3-0da4-4752-a069-23089dc37a0c",
   "metadata": {},
   "outputs": [],
   "source": [
    "model = tf.keras.Sequential([\n",
    "    tf.keras.layers.Flatten(input_shape = (D,D)),\n",
    "    tf.keras.layers.Dense(128, activation = 'relu'),\n",
    "    tf.keras.layers.Dense(2) # output neuron for number of classes\n",
    "])"
   ]
  },
  {
   "cell_type": "code",
   "execution_count": 32,
   "id": "b24f3579-6f43-4fa7-bfb0-bcc16be3a5e3",
   "metadata": {},
   "outputs": [],
   "source": [
    "model.compile(optimizer = 'adam', \n",
    "              loss= tf.keras.losses.SparseCategoricalCrossentropy(from_logits=True),\n",
    "              metrics = ['accuracy'])"
   ]
  },
  {
   "cell_type": "code",
   "execution_count": 80,
   "id": "82a54471-0782-4d1c-9096-4ee72ddb46d6",
   "metadata": {},
   "outputs": [
    {
     "name": "stdout",
     "output_type": "stream",
     "text": [
      "Epoch 1/10\n",
      "114/114 [==============================] - 0s 4ms/step - loss: 0.6633 - accuracy: 0.6189\n",
      "Epoch 2/10\n",
      "114/114 [==============================] - 0s 3ms/step - loss: 0.6564 - accuracy: 0.6189\n",
      "Epoch 3/10\n",
      "114/114 [==============================] - 0s 4ms/step - loss: 0.6545 - accuracy: 0.6197\n",
      "Epoch 4/10\n",
      "114/114 [==============================] - 0s 3ms/step - loss: 0.6566 - accuracy: 0.6186\n",
      "Epoch 5/10\n",
      "114/114 [==============================] - 0s 3ms/step - loss: 0.6562 - accuracy: 0.6150\n",
      "Epoch 6/10\n",
      "114/114 [==============================] - 0s 2ms/step - loss: 0.6526 - accuracy: 0.6216\n",
      "Epoch 7/10\n",
      "114/114 [==============================] - 0s 3ms/step - loss: 0.6516 - accuracy: 0.6255\n",
      "Epoch 8/10\n",
      "114/114 [==============================] - 0s 2ms/step - loss: 0.6537 - accuracy: 0.6170\n",
      "Epoch 9/10\n",
      "114/114 [==============================] - 0s 2ms/step - loss: 0.6506 - accuracy: 0.6214\n",
      "Epoch 10/10\n",
      "114/114 [==============================] - 0s 3ms/step - loss: 0.6548 - accuracy: 0.6236\n"
     ]
    },
    {
     "data": {
      "text/plain": [
       "<tensorflow.python.keras.callbacks.History at 0x272e6089e20>"
      ]
     },
     "execution_count": 80,
     "metadata": {},
     "output_type": "execute_result"
    }
   ],
   "source": [
    "model.fit(Xtr2, np.array(tr['label']), epochs = 10) # guessing 0 have higher chance than accuracy\n",
    "\n",
    "# DNN with 28x28 & N = 1000 yields 0.64\n",
    "# DNN with 28x28 & N = tr.shape[0] yields 0.53\n",
    "# Continue?\n",
    "# DNN with 28x28 & N = tr.shape[0] , epochs = 1000 yields\n",
    "# DNN with 50x50 & N = tr.shape[0] epochs = 1000 yields \n",
    "\n",
    "# or\n",
    "# Look at something simpler - how much orange in image?\n",
    "# or\n",
    "# use cnn (convolutional) https://blog.tensorflow.org/2018/04/fashion-mnist-with-tfkeras.html"
   ]
  },
  {
   "cell_type": "code",
   "execution_count": 23,
   "id": "e3342c9e-5c56-4639-a027-d62dc8b40c20",
   "metadata": {},
   "outputs": [
    {
     "data": {
      "text/plain": [
       "0        618\n",
       "1        620\n",
       "2        623\n",
       "3        625\n",
       "4        629\n",
       "        ... \n",
       "2509    6141\n",
       "2510    6143\n",
       "2511    6144\n",
       "2512    6146\n",
       "2513    6147\n",
       "Name: id, Length: 2514, dtype: int64"
      ]
     },
     "execution_count": 23,
     "metadata": {},
     "output_type": "execute_result"
    }
   ],
   "source": [
    "te['id']"
   ]
  },
  {
   "cell_type": "code",
   "execution_count": 24,
   "id": "d4c82ee0-95a8-4a4f-92ab-4145fdcc9c22",
   "metadata": {},
   "outputs": [
    {
     "name": "stdout",
     "output_type": "stream",
     "text": [
      "0 / 2514\n",
      "100 / 2514\n",
      "200 / 2514\n",
      "300 / 2514\n",
      "400 / 2514\n",
      "500 / 2514\n",
      "600 / 2514\n",
      "700 / 2514\n",
      "800 / 2514\n",
      "900 / 2514\n",
      "1000 / 2514\n",
      "1100 / 2514\n",
      "1200 / 2514\n",
      "1300 / 2514\n",
      "1400 / 2514\n",
      "1500 / 2514\n",
      "1600 / 2514\n",
      "1700 / 2514\n",
      "1800 / 2514\n",
      "1900 / 2514\n",
      "2000 / 2514\n",
      "2100 / 2514\n",
      "2200 / 2514\n",
      "2300 / 2514\n",
      "2400 / 2514\n",
      "2500 / 2514\n"
     ]
    }
   ],
   "source": [
    "D = 28 # Dimension of images after resizing\n",
    "N = te.shape[0]\n",
    "Xte = np.zeros([N,D,D])\n",
    "found = list()\n",
    "for ii in range(N):\n",
    "    if ii % 100 == 0:\n",
    "        print('%d / %d' % (ii, N))\n",
    "    teId = te['id'][ii]\n",
    "    path = 'images/%05d.png' %teId\n",
    "        \n",
    "    pic = imageio.imread(path)\n",
    "    pic = Image.fromarray(pic).resize((D,D)) # NOTE : this can be improved.\n",
    "    pic = np.mean(pic,axis = 2) # NOTE: this can be improved\n",
    "    pic = np.array(pic)\n",
    "    # print(pic.shape)\n",
    "    Xte[ii,:,:] = pic"
   ]
  },
  {
   "cell_type": "code",
   "execution_count": 34,
   "id": "1ec5626d-fe88-456a-bf16-02fa0ffd07e6",
   "metadata": {},
   "outputs": [],
   "source": [
    "Xte2 = Xte/255"
   ]
  },
  {
   "cell_type": "code",
   "execution_count": 81,
   "id": "7987c279-9f4a-4dc9-8fb3-4c848eb0b2f7",
   "metadata": {},
   "outputs": [],
   "source": [
    "preds = model.predict(Xte2)"
   ]
  },
  {
   "cell_type": "code",
   "execution_count": 82,
   "id": "5c3cd9aa-6eef-4ab9-a3cf-32846e6392d1",
   "metadata": {},
   "outputs": [
    {
     "data": {
      "text/plain": [
       "array([[-0.13217375, -0.23582153],\n",
       "       [ 0.31179634, -0.33921182],\n",
       "       [ 0.25503376, -0.3952964 ],\n",
       "       ...,\n",
       "       [ 0.07474652, -0.3258608 ],\n",
       "       [ 0.02470782, -0.2948069 ],\n",
       "       [ 0.39199814, -0.40421438]], dtype=float32)"
      ]
     },
     "execution_count": 82,
     "metadata": {},
     "output_type": "execute_result"
    }
   ],
   "source": [
    "preds"
   ]
  },
  {
   "cell_type": "code",
   "execution_count": 68,
   "id": "e43af4c8-a032-4024-a941-81825d002a9b",
   "metadata": {},
   "outputs": [],
   "source": [
    "pred = tf.nn.sigmoid(preds)\n",
    "pred = tf.where(pred<0.5, 0 , 1)"
   ]
  },
  {
   "cell_type": "code",
   "execution_count": 70,
   "id": "fe75776e-5abb-42c9-9699-21f824593a42",
   "metadata": {},
   "outputs": [
    {
     "data": {
      "text/plain": [
       "array([[1, 1],\n",
       "       [1, 0],\n",
       "       [1, 0],\n",
       "       ...,\n",
       "       [1, 0],\n",
       "       [1, 1],\n",
       "       [1, 0]])"
      ]
     },
     "execution_count": 70,
     "metadata": {},
     "output_type": "execute_result"
    }
   ],
   "source": []
  },
  {
   "cell_type": "code",
   "execution_count": 54,
   "id": "63a72f94-8f8b-4cd9-baf7-cae534102249",
   "metadata": {},
   "outputs": [],
   "source": [
    "from sklearn.model_selection import train_test_split"
   ]
  },
  {
   "cell_type": "code",
   "execution_count": 56,
   "id": "0614b9a2-9011-451c-9e31-2a7c6af62276",
   "metadata": {},
   "outputs": [],
   "source": [
    "X_train, X_test, y_train, y_test = train_test_split(Xtr2,tr['label'],test_size = 0.2, random_state = 42)"
   ]
  },
  {
   "cell_type": "code",
   "execution_count": 83,
   "id": "007ada7c-74be-42c0-bf20-0100faf7c765",
   "metadata": {},
   "outputs": [
    {
     "name": "stdout",
     "output_type": "stream",
     "text": [
      "Epoch 1/5\n",
      "91/91 [==============================] - 0s 5ms/step - loss: 0.6500 - accuracy: 0.6202 - val_loss: 0.6632 - val_accuracy: 0.5915\n",
      "Epoch 2/5\n",
      "91/91 [==============================] - 0s 4ms/step - loss: 0.6537 - accuracy: 0.6175 - val_loss: 0.6538 - val_accuracy: 0.6190\n",
      "Epoch 3/5\n",
      "91/91 [==============================] - 0s 4ms/step - loss: 0.6530 - accuracy: 0.6151 - val_loss: 0.6688 - val_accuracy: 0.6245\n",
      "Epoch 4/5\n",
      "91/91 [==============================] - 0s 4ms/step - loss: 0.6513 - accuracy: 0.6271 - val_loss: 0.6632 - val_accuracy: 0.5846\n",
      "Epoch 5/5\n",
      "91/91 [==============================] - 0s 3ms/step - loss: 0.6493 - accuracy: 0.6237 - val_loss: 0.6641 - val_accuracy: 0.6011\n"
     ]
    },
    {
     "data": {
      "text/plain": [
       "<tensorflow.python.keras.callbacks.History at 0x272e6436310>"
      ]
     },
     "execution_count": 83,
     "metadata": {},
     "output_type": "execute_result"
    }
   ],
   "source": [
    "model.fit(X_train, y_train, epochs = 5, validation_data = (X_test,y_test))"
   ]
  },
  {
   "cell_type": "code",
   "execution_count": 73,
   "id": "e24b9e57-5a13-4cf7-b16a-a6a128858b35",
   "metadata": {},
   "outputs": [
    {
     "data": {
      "text/plain": [
       "1289    0\n",
       "120     0\n",
       "839     1\n",
       "1537    0\n",
       "2890    0\n",
       "       ..\n",
       "343     0\n",
       "1652    0\n",
       "1592    0\n",
       "678     0\n",
       "1831    0\n",
       "Name: label, Length: 727, dtype: int64"
      ]
     },
     "execution_count": 73,
     "metadata": {},
     "output_type": "execute_result"
    }
   ],
   "source": []
  },
  {
   "cell_type": "code",
   "execution_count": 75,
   "id": "0a07fcc5-ccf7-423f-b95c-2ab67aa8bb75",
   "metadata": {},
   "outputs": [
    {
     "data": {
      "text/plain": [
       "array([[-0.0930413 , -0.45244193],\n",
       "       [ 0.0761469 , -0.3376736 ],\n",
       "       [ 0.01296997, -0.45653886],\n",
       "       ...,\n",
       "       [-0.00528729, -0.4273917 ],\n",
       "       [ 0.11757076, -0.40412998],\n",
       "       [-0.41486728, -0.36487132]], dtype=float32)"
      ]
     },
     "execution_count": 75,
     "metadata": {},
     "output_type": "execute_result"
    }
   ],
   "source": [
    "model.predict(X_test)"
   ]
  },
  {
   "cell_type": "code",
   "execution_count": 90,
   "id": "a2570e38-95a5-4a85-9d03-f70daf20110b",
   "metadata": {},
   "outputs": [],
   "source": [
    "def read_image(N,D,X):\n",
    "    Xt = np.zeros([N,D,D])\n",
    "    #found = list()\n",
    "    for ii in range(N):\n",
    "        if ii % 100 == 0:\n",
    "            print('%d / %d' % (ii, N))\n",
    "        teId = X['id'][ii]\n",
    "        path = 'images/%05d.png' %teId\n",
    "        \n",
    "        pic = imageio.imread(path)\n",
    "        pic = Image.fromarray(pic).resize((D,D)) # NOTE : this can be improved.\n",
    "        pic = np.mean(pic,axis = 2) # NOTE: this can be improved\n",
    "        pic = np.array(pic)\n",
    "        # print(pic.shape)\n",
    "        Xt[ii,:,:] = pic\n",
    "    Xt = Xt/255\n",
    "    return Xt"
   ]
  },
  {
   "cell_type": "code",
   "execution_count": 91,
   "id": "1b15cb4b-2967-47c5-8a7e-2feb39d69f03",
   "metadata": {},
   "outputs": [
    {
     "name": "stdout",
     "output_type": "stream",
     "text": [
      "0 / 3634\n",
      "100 / 3634\n",
      "200 / 3634\n",
      "300 / 3634\n",
      "400 / 3634\n",
      "500 / 3634\n",
      "600 / 3634\n",
      "700 / 3634\n",
      "800 / 3634\n",
      "900 / 3634\n",
      "1000 / 3634\n",
      "1100 / 3634\n",
      "1200 / 3634\n",
      "1300 / 3634\n",
      "1400 / 3634\n",
      "1500 / 3634\n",
      "1600 / 3634\n",
      "1700 / 3634\n",
      "1800 / 3634\n",
      "1900 / 3634\n",
      "2000 / 3634\n",
      "2100 / 3634\n",
      "2200 / 3634\n",
      "2300 / 3634\n",
      "2400 / 3634\n",
      "2500 / 3634\n",
      "2600 / 3634\n",
      "2700 / 3634\n",
      "2800 / 3634\n",
      "2900 / 3634\n",
      "3000 / 3634\n",
      "3100 / 3634\n",
      "3200 / 3634\n",
      "3300 / 3634\n",
      "3400 / 3634\n",
      "3500 / 3634\n",
      "3600 / 3634\n"
     ]
    }
   ],
   "source": [
    "Xtr_1 = read_image(tr.shape[0],200,tr)"
   ]
  },
  {
   "cell_type": "code",
   "execution_count": 92,
   "id": "8f6349fa-ffd9-4fde-805f-b4f8d1694810",
   "metadata": {},
   "outputs": [
    {
     "data": {
      "text/plain": [
       "array([[[0.81568627, 0.8       , 0.78823529, ..., 0.25490196,\n",
       "         0.26666667, 0.27843137],\n",
       "        [0.85098039, 0.84705882, 0.81568627, ..., 0.23529412,\n",
       "         0.22352941, 0.27843137],\n",
       "        [0.77254902, 0.81960784, 0.80392157, ..., 0.27843137,\n",
       "         0.25490196, 0.28627451],\n",
       "        ...,\n",
       "        [0.28627451, 0.2745098 , 0.26666667, ..., 0.25490196,\n",
       "         0.27843137, 0.25882353],\n",
       "        [0.27058824, 0.25098039, 0.26666667, ..., 0.27843137,\n",
       "         0.30588235, 0.25882353],\n",
       "        [0.28235294, 0.2745098 , 0.24705882, ..., 0.24705882,\n",
       "         0.31372549, 0.24313725]],\n",
       "\n",
       "       [[0.41176471, 0.33594771, 0.32026144, ..., 0.45359477,\n",
       "         0.46013072, 0.46797386],\n",
       "        [0.45751634, 0.32418301, 0.25751634, ..., 0.44052288,\n",
       "         0.44836601, 0.45620915],\n",
       "        [0.48104575, 0.42222222, 0.37385621, ..., 0.44444444,\n",
       "         0.45228758, 0.46013072],\n",
       "        ...,\n",
       "        [0.37647059, 0.36470588, 0.36078431, ..., 0.30326797,\n",
       "         0.39738562, 0.25228758],\n",
       "        [0.39215686, 0.29411765, 0.27843137, ..., 0.32287582,\n",
       "         0.32287582, 0.33856209],\n",
       "        [0.40784314, 0.3254902 , 0.22745098, ..., 0.33856209,\n",
       "         0.31503268, 0.33071895]],\n",
       "\n",
       "       [[0.67843137, 0.67843137, 0.68627451, ..., 0.58823529,\n",
       "         0.58431373, 0.58431373],\n",
       "        [0.67843137, 0.68235294, 0.69019608, ..., 0.59477124,\n",
       "         0.5869281 , 0.58431373],\n",
       "        [0.68235294, 0.68627451, 0.69019608, ..., 0.60261438,\n",
       "         0.59477124, 0.58300654],\n",
       "        ...,\n",
       "        [0.60915033, 0.63660131, 0.64052288, ..., 0.66143791,\n",
       "         0.64183007, 0.62222222],\n",
       "        [0.59738562, 0.62875817, 0.63660131, ..., 0.6496732 ,\n",
       "         0.64183007, 0.62614379],\n",
       "        [0.61699346, 0.63660131, 0.63660131, ..., 0.64183007,\n",
       "         0.6379085 , 0.63398693]],\n",
       "\n",
       "       ...,\n",
       "\n",
       "       [[0.41960784, 0.40784314, 0.41176471, ..., 0.39215686,\n",
       "         0.36470588, 0.36078431],\n",
       "        [0.4       , 0.41960784, 0.43529412, ..., 0.38823529,\n",
       "         0.38039216, 0.35686275],\n",
       "        [0.36862745, 0.39607843, 0.41176471, ..., 0.37647059,\n",
       "         0.39215686, 0.36078431],\n",
       "        ...,\n",
       "        [0.41437908, 0.40261438, 0.41437908, ..., 0.38954248,\n",
       "         0.37777778, 0.38300654],\n",
       "        [0.41045752, 0.39869281, 0.41045752, ..., 0.37385621,\n",
       "         0.36601307, 0.39607843],\n",
       "        [0.39869281, 0.39477124, 0.39869281, ..., 0.33464052,\n",
       "         0.33333333, 0.40915033]],\n",
       "\n",
       "       [[0.46797386, 0.49542484, 0.49934641, ..., 0.31633987,\n",
       "         0.32679739, 0.29934641],\n",
       "        [0.48366013, 0.50718954, 0.50588235, ..., 0.32679739,\n",
       "         0.31111111, 0.28235294],\n",
       "        [0.49934641, 0.51895425, 0.51633987, ..., 0.32679739,\n",
       "         0.29150327, 0.27189542],\n",
       "        ...,\n",
       "        [0.5124183 , 0.50457516, 0.49673203, ..., 0.2496732 ,\n",
       "         0.2627451 , 0.26928105],\n",
       "        [0.51633987, 0.50849673, 0.50457516, ..., 0.26928105,\n",
       "         0.26666667, 0.27973856],\n",
       "        [0.49673203, 0.50457516, 0.5124183 , ..., 0.27320261,\n",
       "         0.26666667, 0.28366013]],\n",
       "\n",
       "       [[0.3372549 , 0.31764706, 0.30980392, ..., 0.45359477,\n",
       "         0.44575163, 0.43398693],\n",
       "        [0.3372549 , 0.31764706, 0.30980392, ..., 0.45490196,\n",
       "         0.44183007, 0.43267974],\n",
       "        [0.32941176, 0.31372549, 0.30980392, ..., 0.45882353,\n",
       "         0.45359477, 0.4496732 ],\n",
       "        ...,\n",
       "        [0.3254902 , 0.32156863, 0.32156863, ..., 0.33202614,\n",
       "         0.33594771, 0.32810458],\n",
       "        [0.32156863, 0.32156863, 0.3254902 , ..., 0.33594771,\n",
       "         0.33594771, 0.32418301],\n",
       "        [0.32156863, 0.32156863, 0.3254902 , ..., 0.32810458,\n",
       "         0.32810458, 0.32026144]]])"
      ]
     },
     "execution_count": 92,
     "metadata": {},
     "output_type": "execute_result"
    }
   ],
   "source": [
    "Xtr_1"
   ]
  },
  {
   "cell_type": "code",
   "execution_count": 110,
   "id": "b95ca49d-a154-478b-acab-353c27e2f917",
   "metadata": {},
   "outputs": [],
   "source": [
    "model = tf.keras.Sequential([\n",
    "    tf.keras.layers.Conv2D(16,(3,3), activation = 'relu', input_shape = (200,200,1)),\n",
    "    tf.keras.layers.MaxPool2D(2,2),\n",
    "    \n",
    "    tf.keras.layers.Conv2D(32,(3,3), activation = 'relu'),\n",
    "    tf.keras.layers.MaxPool2D(2,2),\n",
    "    \n",
    "    tf.keras.layers.Conv2D(64,(3,3), activation = 'relu'),\n",
    "    tf.keras.layers.MaxPool2D(2,2),\n",
    "    \n",
    "    tf.keras.layers.Flatten(),\n",
    "    tf.keras.layers.Dense(512, activation = 'relu'),\n",
    "    tf.keras.layers.Dense(1, activation = 'sigmoid') # output neuron for number of classes\n",
    "])"
   ]
  },
  {
   "cell_type": "code",
   "execution_count": 111,
   "id": "09920c44-2457-4c5f-b796-b8db7200162d",
   "metadata": {},
   "outputs": [],
   "source": [
    "model.compile(loss = 'binary_crossentropy',\n",
    "             optimizer = tf.keras.optimizers.RMSprop(learning_rate = 0.001),\n",
    "              metrics = ['accuracy'])"
   ]
  },
  {
   "cell_type": "code",
   "execution_count": 105,
   "id": "0f4732ed-50d2-4f9d-af98-d297f736026f",
   "metadata": {},
   "outputs": [],
   "source": [
    "Xtr_2 = Xtr_1.reshape(-1,200,200,1)"
   ]
  },
  {
   "cell_type": "code",
   "execution_count": 112,
   "id": "ceb4a11f-304e-497b-bbfc-2fd7ddab2d54",
   "metadata": {},
   "outputs": [
    {
     "name": "stdout",
     "output_type": "stream",
     "text": [
      "Epoch 1/30\n",
      "114/114 [==============================] - 11s 53ms/step - loss: 0.8331 - accuracy: 0.6021\n",
      "Epoch 2/30\n",
      "114/114 [==============================] - 6s 49ms/step - loss: 0.6842 - accuracy: 0.6010\n",
      "Epoch 3/30\n",
      "114/114 [==============================] - 6s 51ms/step - loss: 0.6656 - accuracy: 0.6156\n",
      "Epoch 4/30\n",
      "114/114 [==============================] - 6s 52ms/step - loss: 0.6500 - accuracy: 0.6249\n",
      "Epoch 5/30\n",
      "114/114 [==============================] - 6s 51ms/step - loss: 0.6343 - accuracy: 0.6511 0s - loss: 0.638\n",
      "Epoch 6/30\n",
      "114/114 [==============================] - 6s 51ms/step - loss: 0.6023 - accuracy: 0.6835\n",
      "Epoch 7/30\n",
      "114/114 [==============================] - 6s 51ms/step - loss: 0.5653 - accuracy: 0.7133\n",
      "Epoch 8/30\n",
      "114/114 [==============================] - 6s 51ms/step - loss: 0.5135 - accuracy: 0.7427\n",
      "Epoch 9/30\n",
      "114/114 [==============================] - 6s 51ms/step - loss: 0.4590 - accuracy: 0.7870\n",
      "Epoch 10/30\n",
      "114/114 [==============================] - 6s 52ms/step - loss: 0.3866 - accuracy: 0.8217\n",
      "Epoch 11/30\n",
      "114/114 [==============================] - 6s 51ms/step - loss: 0.3418 - accuracy: 0.8514\n",
      "Epoch 12/30\n",
      "114/114 [==============================] - 6s 52ms/step - loss: 0.2799 - accuracy: 0.8825\n",
      "Epoch 13/30\n",
      "114/114 [==============================] - 6s 52ms/step - loss: 0.2225 - accuracy: 0.9078\n",
      "Epoch 14/30\n",
      "114/114 [==============================] - 6s 53ms/step - loss: 0.1870 - accuracy: 0.9293\n",
      "Epoch 15/30\n",
      "114/114 [==============================] - 6s 52ms/step - loss: 0.1479 - accuracy: 0.9499\n",
      "Epoch 16/30\n",
      "114/114 [==============================] - 6s 51ms/step - loss: 0.1582 - accuracy: 0.9587\n",
      "Epoch 17/30\n",
      "114/114 [==============================] - 6s 52ms/step - loss: 0.1384 - accuracy: 0.9678\n",
      "Epoch 18/30\n",
      "114/114 [==============================] - 6s 52ms/step - loss: 0.0837 - accuracy: 0.9744\n",
      "Epoch 19/30\n",
      "114/114 [==============================] - 7s 58ms/step - loss: 0.1320 - accuracy: 0.9717\n",
      "Epoch 20/30\n",
      "114/114 [==============================] - 7s 59ms/step - loss: 0.1135 - accuracy: 0.9780\n",
      "Epoch 21/30\n",
      "114/114 [==============================] - 6s 55ms/step - loss: 0.1079 - accuracy: 0.9736\n",
      "Epoch 22/30\n",
      "114/114 [==============================] - 7s 58ms/step - loss: 0.0581 - accuracy: 0.9843\n",
      "Epoch 23/30\n",
      "114/114 [==============================] - 7s 58ms/step - loss: 0.0542 - accuracy: 0.9854\n",
      "Epoch 24/30\n",
      "114/114 [==============================] - 6s 57ms/step - loss: 0.0729 - accuracy: 0.9799\n",
      "Epoch 25/30\n",
      "114/114 [==============================] - 6s 54ms/step - loss: 0.0457 - accuracy: 0.9865\n",
      "Epoch 26/30\n",
      "114/114 [==============================] - 6s 55ms/step - loss: 0.0721 - accuracy: 0.9794\n",
      "Epoch 27/30\n",
      "114/114 [==============================] - 6s 52ms/step - loss: 0.0768 - accuracy: 0.9827\n",
      "Epoch 28/30\n",
      "114/114 [==============================] - 6s 57ms/step - loss: 0.0569 - accuracy: 0.9829\n",
      "Epoch 29/30\n",
      "114/114 [==============================] - 6s 52ms/step - loss: 0.0691 - accuracy: 0.9821\n",
      "Epoch 30/30\n",
      "114/114 [==============================] - 6s 54ms/step - loss: 0.0626 - accuracy: 0.9862\n"
     ]
    },
    {
     "data": {
      "text/plain": [
       "<tensorflow.python.keras.callbacks.History at 0x272f3f67c10>"
      ]
     },
     "execution_count": 112,
     "metadata": {},
     "output_type": "execute_result"
    }
   ],
   "source": [
    "model.fit(Xtr_2,np.array(tr['label']), epochs = 30)"
   ]
  },
  {
   "cell_type": "code",
   "execution_count": 109,
   "id": "2cb62024-d907-4bc0-b2cb-db94fac93b73",
   "metadata": {},
   "outputs": [
    {
     "data": {
      "text/plain": [
       "(3634, 200, 200, 1)"
      ]
     },
     "execution_count": 109,
     "metadata": {},
     "output_type": "execute_result"
    }
   ],
   "source": [
    "Xtr_2.shape"
   ]
  },
  {
   "cell_type": "code",
   "execution_count": 118,
   "id": "50f3b764-ded6-40c5-b18d-461d93402753",
   "metadata": {},
   "outputs": [],
   "source": [
    "X_train, X_test, y_train, y_test = train_test_split(Xtr_2,np.array(tr['label']),test_size = 0.2, random_state = 42)"
   ]
  },
  {
   "cell_type": "code",
   "execution_count": 119,
   "id": "7f703a31-e984-4c59-8702-9a8bf1c5f6bd",
   "metadata": {},
   "outputs": [
    {
     "name": "stdout",
     "output_type": "stream",
     "text": [
      "Epoch 1/40\n",
      "91/91 [==============================] - 6s 64ms/step - loss: 0.0436 - accuracy: 0.9859 - val_loss: 0.0266 - val_accuracy: 0.9945\n",
      "Epoch 2/40\n",
      "91/91 [==============================] - 5s 54ms/step - loss: 0.0512 - accuracy: 0.9835 - val_loss: 0.0179 - val_accuracy: 0.9959\n",
      "Epoch 3/40\n",
      "91/91 [==============================] - 5s 54ms/step - loss: 0.0440 - accuracy: 0.9880 - val_loss: 0.0206 - val_accuracy: 0.9959\n",
      "Epoch 4/40\n",
      "91/91 [==============================] - 5s 54ms/step - loss: 0.0546 - accuracy: 0.9835 - val_loss: 0.0624 - val_accuracy: 0.9945\n",
      "Epoch 5/40\n",
      "91/91 [==============================] - 5s 56ms/step - loss: 0.0345 - accuracy: 0.9900 - val_loss: 0.0700 - val_accuracy: 0.9780\n",
      "Epoch 6/40\n",
      "91/91 [==============================] - 5s 56ms/step - loss: 0.0748 - accuracy: 0.9804 - val_loss: 0.0349 - val_accuracy: 0.9931\n",
      "Epoch 7/40\n",
      "91/91 [==============================] - 6s 62ms/step - loss: 0.0496 - accuracy: 0.9849 - val_loss: 0.0395 - val_accuracy: 0.9904\n",
      "Epoch 8/40\n",
      "91/91 [==============================] - 5s 56ms/step - loss: 0.0471 - accuracy: 0.9866 - val_loss: 0.1300 - val_accuracy: 0.9464\n",
      "Epoch 9/40\n",
      "91/91 [==============================] - 5s 55ms/step - loss: 0.0601 - accuracy: 0.9821 - val_loss: 0.0901 - val_accuracy: 0.9807\n",
      "Epoch 10/40\n",
      "91/91 [==============================] - 5s 57ms/step - loss: 0.0515 - accuracy: 0.9886 - val_loss: 0.0545 - val_accuracy: 0.9931\n",
      "Epoch 11/40\n",
      "91/91 [==============================] - 5s 55ms/step - loss: 0.0693 - accuracy: 0.9828 - val_loss: 0.0480 - val_accuracy: 0.9917\n",
      "Epoch 12/40\n",
      "91/91 [==============================] - 5s 56ms/step - loss: 0.0283 - accuracy: 0.9893 - val_loss: 0.0551 - val_accuracy: 0.9890\n",
      "Epoch 13/40\n",
      "91/91 [==============================] - 5s 56ms/step - loss: 0.0394 - accuracy: 0.9869 - val_loss: 0.0597 - val_accuracy: 0.9807\n",
      "Epoch 14/40\n",
      "91/91 [==============================] - 5s 55ms/step - loss: 0.0454 - accuracy: 0.9880 - val_loss: 0.0624 - val_accuracy: 0.9821\n",
      "Epoch 15/40\n",
      "91/91 [==============================] - 5s 56ms/step - loss: 0.0458 - accuracy: 0.9849 - val_loss: 0.0973 - val_accuracy: 0.9642\n",
      "Epoch 16/40\n",
      "91/91 [==============================] - 5s 56ms/step - loss: 0.0720 - accuracy: 0.9807 - val_loss: 0.0651 - val_accuracy: 0.9821\n",
      "Epoch 17/40\n",
      "91/91 [==============================] - 5s 54ms/step - loss: 0.0454 - accuracy: 0.9862 - val_loss: 0.0673 - val_accuracy: 0.9876\n",
      "Epoch 18/40\n",
      "91/91 [==============================] - 5s 55ms/step - loss: 0.0411 - accuracy: 0.9859 - val_loss: 0.0936 - val_accuracy: 0.9752\n",
      "Epoch 19/40\n",
      "91/91 [==============================] - 5s 56ms/step - loss: 0.0323 - accuracy: 0.9876 - val_loss: 0.1597 - val_accuracy: 0.9519\n",
      "Epoch 20/40\n",
      "91/91 [==============================] - 5s 54ms/step - loss: 0.1707 - accuracy: 0.9804 - val_loss: 0.0977 - val_accuracy: 0.9739\n",
      "Epoch 21/40\n",
      "91/91 [==============================] - 5s 54ms/step - loss: 0.0936 - accuracy: 0.9783 - val_loss: 0.2379 - val_accuracy: 0.9367\n",
      "Epoch 22/40\n",
      "91/91 [==============================] - 5s 55ms/step - loss: 0.0807 - accuracy: 0.9849 - val_loss: 0.2094 - val_accuracy: 0.9532\n",
      "Epoch 23/40\n",
      "91/91 [==============================] - 5s 56ms/step - loss: 0.1481 - accuracy: 0.9800 - val_loss: 0.1895 - val_accuracy: 0.9381\n",
      "Epoch 24/40\n",
      "91/91 [==============================] - 5s 56ms/step - loss: 0.1733 - accuracy: 0.9811 - val_loss: 0.1565 - val_accuracy: 0.9642\n",
      "Epoch 25/40\n",
      "91/91 [==============================] - 5s 55ms/step - loss: 0.1040 - accuracy: 0.9759 - val_loss: 0.1596 - val_accuracy: 0.9560\n",
      "Epoch 26/40\n",
      "91/91 [==============================] - 5s 55ms/step - loss: 0.0758 - accuracy: 0.9811 - val_loss: 0.2159 - val_accuracy: 0.9629\n",
      "Epoch 27/40\n",
      "91/91 [==============================] - 5s 56ms/step - loss: 0.1107 - accuracy: 0.9835 - val_loss: 0.1910 - val_accuracy: 0.9574\n",
      "Epoch 28/40\n",
      "91/91 [==============================] - 5s 56ms/step - loss: 0.0396 - accuracy: 0.9856 - val_loss: 0.2219 - val_accuracy: 0.9436\n",
      "Epoch 29/40\n",
      "91/91 [==============================] - 5s 56ms/step - loss: 0.1011 - accuracy: 0.9770 - val_loss: 0.2027 - val_accuracy: 0.9422\n",
      "Epoch 30/40\n",
      "91/91 [==============================] - 5s 56ms/step - loss: 0.0321 - accuracy: 0.9893 - val_loss: 1.1109 - val_accuracy: 0.8129\n",
      "Epoch 31/40\n",
      "91/91 [==============================] - 5s 56ms/step - loss: 0.0599 - accuracy: 0.9828 - val_loss: 0.2073 - val_accuracy: 0.9450\n",
      "Epoch 32/40\n",
      "91/91 [==============================] - 6s 64ms/step - loss: 0.0808 - accuracy: 0.9821 - val_loss: 2.0096 - val_accuracy: 0.7813\n",
      "Epoch 33/40\n",
      "91/91 [==============================] - 5s 58ms/step - loss: 0.0227 - accuracy: 0.9893 - val_loss: 1.5935 - val_accuracy: 0.7785\n",
      "Epoch 34/40\n",
      "91/91 [==============================] - 5s 56ms/step - loss: 0.1813 - accuracy: 0.9739 - val_loss: 0.2248 - val_accuracy: 0.9354\n",
      "Epoch 35/40\n",
      "91/91 [==============================] - 5s 56ms/step - loss: 0.0356 - accuracy: 0.9873 - val_loss: 0.1851 - val_accuracy: 0.9505\n",
      "Epoch 36/40\n",
      "91/91 [==============================] - 5s 59ms/step - loss: 0.0243 - accuracy: 0.9904 - val_loss: 0.3738 - val_accuracy: 0.9065\n",
      "Epoch 37/40\n",
      "91/91 [==============================] - 5s 60ms/step - loss: 0.0379 - accuracy: 0.9873 - val_loss: 0.7916 - val_accuracy: 0.8171\n",
      "Epoch 38/40\n",
      "91/91 [==============================] - 5s 58ms/step - loss: 0.0524 - accuracy: 0.9842 - val_loss: 0.2499 - val_accuracy: 0.9395\n",
      "Epoch 39/40\n",
      "91/91 [==============================] - 6s 63ms/step - loss: 0.0223 - accuracy: 0.9904 - val_loss: 0.3099 - val_accuracy: 0.9285\n",
      "Epoch 40/40\n",
      "91/91 [==============================] - 5s 55ms/step - loss: 0.0262 - accuracy: 0.9900 - val_loss: 0.3131 - val_accuracy: 0.9243\n"
     ]
    },
    {
     "data": {
      "text/plain": [
       "<tensorflow.python.keras.callbacks.History at 0x272ecf24370>"
      ]
     },
     "execution_count": 119,
     "metadata": {},
     "output_type": "execute_result"
    }
   ],
   "source": [
    "model.fit(X_train,y_train, epochs = 40, validation_data = (X_test,y_test))"
   ]
  },
  {
   "cell_type": "code",
   "execution_count": 113,
   "id": "cc525678-d5fb-4541-b77a-92abee68285b",
   "metadata": {},
   "outputs": [
    {
     "name": "stdout",
     "output_type": "stream",
     "text": [
      "0 / 2514\n",
      "100 / 2514\n",
      "200 / 2514\n",
      "300 / 2514\n",
      "400 / 2514\n",
      "500 / 2514\n",
      "600 / 2514\n",
      "700 / 2514\n",
      "800 / 2514\n",
      "900 / 2514\n",
      "1000 / 2514\n",
      "1100 / 2514\n",
      "1200 / 2514\n",
      "1300 / 2514\n",
      "1400 / 2514\n",
      "1500 / 2514\n",
      "1600 / 2514\n",
      "1700 / 2514\n",
      "1800 / 2514\n",
      "1900 / 2514\n",
      "2000 / 2514\n",
      "2100 / 2514\n",
      "2200 / 2514\n",
      "2300 / 2514\n",
      "2400 / 2514\n",
      "2500 / 2514\n"
     ]
    }
   ],
   "source": [
    "Xte_1 = read_image(te.shape[0],200,te)\n",
    "Xte_2 = Xte_1.reshape(-1,200,200,1)"
   ]
  },
  {
   "cell_type": "code",
   "execution_count": 114,
   "id": "b996f4f3-b527-419e-b8a4-50fe3da62e34",
   "metadata": {},
   "outputs": [],
   "source": [
    "pred = model.predict(Xte_2)"
   ]
  },
  {
   "cell_type": "code",
   "execution_count": 117,
   "id": "df7bcc0c-e817-4c82-9180-36f27904f63a",
   "metadata": {},
   "outputs": [
    {
     "data": {
      "text/plain": [
       "array([[1.],\n",
       "       [0.],\n",
       "       [0.],\n",
       "       ...,\n",
       "       [1.],\n",
       "       [0.],\n",
       "       [0.]], dtype=float32)"
      ]
     },
     "execution_count": 117,
     "metadata": {},
     "output_type": "execute_result"
    }
   ],
   "source": [
    "np.round(pred)"
   ]
  },
  {
   "cell_type": "code",
   "execution_count": 122,
   "id": "f710a4c7-71a5-44af-884a-648d96ab9566",
   "metadata": {},
   "outputs": [],
   "source": [
    "te1 = te.copy()"
   ]
  },
  {
   "cell_type": "code",
   "execution_count": 123,
   "id": "ba1a3bc7-ea71-424f-904e-aa62408b8ebe",
   "metadata": {},
   "outputs": [],
   "source": [
    "te1['score'] = pred"
   ]
  },
  {
   "cell_type": "code",
   "execution_count": 125,
   "id": "03bed398-8bdc-4fd7-a71e-d4d3a22a3b67",
   "metadata": {},
   "outputs": [],
   "source": [
    "te1.to_csv('pred1.csv',index = False)"
   ]
  },
  {
   "cell_type": "code",
   "execution_count": 126,
   "id": "5236d752-6806-4b60-a288-f675b648754f",
   "metadata": {},
   "outputs": [],
   "source": [
    "te2 = te.copy()"
   ]
  },
  {
   "cell_type": "code",
   "execution_count": 127,
   "id": "3bf7210a-c115-4602-82aa-ab96181f3c29",
   "metadata": {},
   "outputs": [],
   "source": [
    "te2['score'] = np.round(pred)"
   ]
  },
  {
   "cell_type": "code",
   "execution_count": 129,
   "id": "30cda2ce-2805-421c-b8e8-4aec4628e47a",
   "metadata": {},
   "outputs": [],
   "source": [
    "te2.to_csv('pred2.csv',index = False)"
   ]
  },
  {
   "cell_type": "code",
   "execution_count": 131,
   "id": "4a4283f2-4acc-4c63-a5db-ab6548efd92e",
   "metadata": {},
   "outputs": [],
   "source": [
    "te2['score'] = 0\n",
    "te2.to_csv('pred3.csv',index = False)\n",
    "te2['score'] = 1\n",
    "te2.to_csv('pred4.csv',index = False)"
   ]
  },
  {
   "cell_type": "code",
   "execution_count": null,
   "id": "38a8c9da-54ac-403b-ac50-66bb4e3eec54",
   "metadata": {},
   "outputs": [],
   "source": []
  }
 ],
 "metadata": {
  "kernelspec": {
   "display_name": "Python 3 (ipykernel)",
   "language": "python",
   "name": "python3"
  },
  "language_info": {
   "codemirror_mode": {
    "name": "ipython",
    "version": 3
   },
   "file_extension": ".py",
   "mimetype": "text/x-python",
   "name": "python",
   "nbconvert_exporter": "python",
   "pygments_lexer": "ipython3",
   "version": "3.9.7"
  }
 },
 "nbformat": 4,
 "nbformat_minor": 5
}
